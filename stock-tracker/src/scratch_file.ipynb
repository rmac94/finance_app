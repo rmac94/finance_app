{
 "cells": [
  {
   "cell_type": "code",
   "execution_count": 177,
   "id": "ca90bc00",
   "metadata": {},
   "outputs": [],
   "source": [
    "from dataclasses import dataclass\n",
    "from dacite import from_dict\n",
    "from pathlib import Path\n",
    "import datetime, json, os, time\n",
    "\n",
    "project_path = str(Path(os.path.abspath('')).parent)\n",
    "\n",
    "@dataclass\n",
    "class track:\n",
    "    ticker: str\n",
    "    timestamp: int\n",
    "    action: str\n",
    "        \n",
    "    def _create_activity_log(self):\n",
    "        cls_type = self.__class__.__name__\n",
    "        try: \n",
    "            with open(f'{project_path}/data/{cls_type}-log.json', 'x') as f:\n",
    "                header = f'{{\"{cls_type}\":[]}}'\n",
    "                f.write(header)\n",
    "                f.close()\n",
    "        except FileExistsError:\n",
    "            pass\n",
    "        \n",
    "    def _log_activity(self):\n",
    "        return(vars(self))\n",
    "    \n",
    "    def save_log(self):\n",
    "        cls_type = self.__class__.__name__\n",
    "        self._create_activity_log()\n",
    "        activity = self._log_activity()\n",
    "        with open(f'{project_path}/data/{cls_type}-log.json',\"r+\") as file:\n",
    "            data = json.load(file)\n",
    "            data[f'{cls_type}'].append(activity)\n",
    "            file.seek(0)\n",
    "            json.dump(data, file)\n",
    "\n",
    "@dataclass\n",
    "class transaction(track):\n",
    "    shares: float\n",
    "        \n",
    "    def execution_stock_price(self):\n",
    "        pass\n",
    "    \n",
    "    def execution_transaction_value(self):\n",
    "        pass\n",
    "\n",
    "       "
   ]
  },
  {
   "cell_type": "code",
   "execution_count": 178,
   "id": "1d369946",
   "metadata": {
    "scrolled": true
   },
   "outputs": [],
   "source": [
    "portfolio = [\"gxo\",\"googl\",\"msft\",\"atkr\",\"pltr\",\"qcom\",\"brkb\",\"orcl\",\"wfc\",\"pypl\",\"jpm\",\"lpx\",\"csl\"]\n",
    "portfolio = [[k, int(time.time()), \"track\"] for k in portfolio]\n",
    "for stock in portfolio:\n",
    "    action = track(stock[0],stock[1],stock[2])\n",
    "    action.save_log()"
   ]
  }
 ],
 "metadata": {
  "kernelspec": {
   "display_name": "Python 3 (ipykernel)",
   "language": "python",
   "name": "python3"
  },
  "language_info": {
   "codemirror_mode": {
    "name": "ipython",
    "version": 3
   },
   "file_extension": ".py",
   "mimetype": "text/x-python",
   "name": "python",
   "nbconvert_exporter": "python",
   "pygments_lexer": "ipython3",
   "version": "3.8.10"
  }
 },
 "nbformat": 4,
 "nbformat_minor": 5
}
