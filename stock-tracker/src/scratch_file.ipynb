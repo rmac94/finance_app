{
 "cells": [
  {
   "cell_type": "code",
   "execution_count": 1,
   "id": "99f61fe6",
   "metadata": {},
   "outputs": [],
   "source": [
    "from pathlib import Path\n",
    "import datetime, json, os, time\n",
    "import stock"
   ]
  },
  {
   "cell_type": "code",
   "execution_count": 3,
   "id": "53e8f69d",
   "metadata": {},
   "outputs": [
    {
     "name": "stdout",
     "output_type": "stream",
     "text": [
      "Updated gxo\n",
      "Updated googl\n",
      "Updated msft\n",
      "Updated atkr\n",
      "Updated pltr\n",
      "Updated qcom\n",
      "Updated brk-b\n",
      "Updated orcl\n",
      "Updated wfc\n",
      "Updated pypl\n",
      "Updated jpm\n",
      "Updated lpx\n",
      "Updated csl\n"
     ]
    }
   ],
   "source": [
    "log = str(Path(os.path.abspath('')).parent)+'/data/track-log.json'\n",
    "\n",
    "with open(log, 'r') as f:\n",
    "    data = json.load(f)\n",
    "    f.close()\n",
    "    \n",
    "for item in data['track']:\n",
    "    if item['action'] == 'track':\n",
    "        try:\n",
    "            stock.stock(item['ticker']).get_update()\n",
    "            print(f\"Updated {item['ticker']}\")\n",
    "        except Error as ex:\n",
    "            print(ex)"
   ]
  },
  {
   "cell_type": "code",
   "execution_count": 6,
   "id": "d975d7a5",
   "metadata": {},
   "outputs": [],
   "source": [
    "stock.stock(\"gxo\").get_update()"
   ]
  }
 ],
 "metadata": {
  "kernelspec": {
   "display_name": "Python 3 (ipykernel)",
   "language": "python",
   "name": "python3"
  },
  "language_info": {
   "codemirror_mode": {
    "name": "ipython",
    "version": 3
   },
   "file_extension": ".py",
   "mimetype": "text/x-python",
   "name": "python",
   "nbconvert_exporter": "python",
   "pygments_lexer": "ipython3",
   "version": "3.8.10"
  }
 },
 "nbformat": 4,
 "nbformat_minor": 5
}
