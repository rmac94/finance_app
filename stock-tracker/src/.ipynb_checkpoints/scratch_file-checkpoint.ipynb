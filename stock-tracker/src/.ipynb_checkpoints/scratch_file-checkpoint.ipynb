{
 "cells": [
  {
   "cell_type": "code",
   "execution_count": 101,
   "id": "d2ccb481",
   "metadata": {},
   "outputs": [],
   "source": [
    "from dataclasses import dataclass\n",
    "import datetime\n",
    "from dacite import from_dict\n",
    "import json\n",
    "from pathlib import Path\n",
    "import os\n",
    "\n",
    "project_path = str(Path(os.path.abspath('')).parent)\n",
    "\n",
    "@dataclass\n",
    "class track:\n",
    "    ticker: str\n",
    "    timestamp: int\n",
    "    action: str\n",
    "        \n",
    "    def _create_activity_log(self):\n",
    "        try: \n",
    "            with open(f'{project_path}/data/{self.__class__.__name__}-log.json', 'x') as f:\n",
    "                f.close()\n",
    "        except FileExistsError:\n",
    "            pass\n",
    "        \n",
    "    def _log_activity(self):\n",
    "        return(json.dumps(vars(self)))\n",
    "    \n",
    "    def _save_log(self):\n",
    "        print(self.__class__.__name__)\n",
    "        #self._create_activity_log()\n",
    "        #log_history = ''\n",
    "        #transaction_history.append(self._log_activity())\n",
    "        #print(transaction_history)\n",
    "\n",
    "@dataclass\n",
    "class transaction(track):\n",
    "    shares: float\n",
    "        \n",
    "    def execution_stock_price(self):\n",
    "        pass\n",
    "    \n",
    "    def execution_transaction_value(self):\n",
    "        pass\n",
    "\n",
    "       "
   ]
  },
  {
   "cell_type": "code",
   "execution_count": 102,
   "id": "22f74b5d",
   "metadata": {
    "scrolled": true
   },
   "outputs": [
    {
     "name": "stdout",
     "output_type": "stream",
     "text": [
      "transaction\n"
     ]
    }
   ],
   "source": [
    "transaction_1 = {\n",
    "    'ticker' : 'gxo',\n",
    "    'timestamp' : 1633604525,\n",
    "    'action' : 'buy',\n",
    "    'shares' : 100\n",
    "}\n",
    "\n",
    "transaction_1 = from_dict(data_class=transaction, data=transaction_1)\n",
    "transaction_1._save_log()"
   ]
  },
  {
   "cell_type": "code",
   "execution_count": 104,
   "id": "bae60e8e",
   "metadata": {
    "scrolled": true
   },
   "outputs": [
    {
     "name": "stdout",
     "output_type": "stream",
     "text": [
      "{'ticker': 'gxo2', 'timestamp': 1633604525, 'direction': 'buy'}\n"
     ]
    },
    {
     "ename": "AttributeError",
     "evalue": "'dict' object has no attribute 'append'",
     "output_type": "error",
     "traceback": [
      "\u001b[0;31m---------------------------------------------------------------------------\u001b[0m",
      "\u001b[0;31mAttributeError\u001b[0m                            Traceback (most recent call last)",
      "\u001b[0;32m/tmp/ipykernel_89519/1252249143.py\u001b[0m in \u001b[0;36m<module>\u001b[0;34m\u001b[0m\n\u001b[1;32m      3\u001b[0m \u001b[0mprint\u001b[0m\u001b[0;34m(\u001b[0m\u001b[0mdata\u001b[0m\u001b[0;34m[\u001b[0m\u001b[0;34m'tracking'\u001b[0m\u001b[0;34m]\u001b[0m\u001b[0;34m)\u001b[0m\u001b[0;34m\u001b[0m\u001b[0;34m\u001b[0m\u001b[0m\n\u001b[1;32m      4\u001b[0m \u001b[0mappend\u001b[0m \u001b[0;34m=\u001b[0m \u001b[0mjson\u001b[0m\u001b[0;34m.\u001b[0m\u001b[0mdumps\u001b[0m\u001b[0;34m(\u001b[0m\u001b[0;34m{\u001b[0m\u001b[0;34m'ticker'\u001b[0m\u001b[0;34m:\u001b[0m \u001b[0;34m'gxo2'\u001b[0m\u001b[0;34m,\u001b[0m \u001b[0;34m'timestamp'\u001b[0m\u001b[0;34m:\u001b[0m \u001b[0;36m1633604525\u001b[0m\u001b[0;34m,\u001b[0m \u001b[0;34m'direction'\u001b[0m\u001b[0;34m:\u001b[0m \u001b[0;34m'buy'\u001b[0m\u001b[0;34m}\u001b[0m\u001b[0;34m)\u001b[0m\u001b[0;34m\u001b[0m\u001b[0;34m\u001b[0m\u001b[0m\n\u001b[0;32m----> 5\u001b[0;31m \u001b[0mdata\u001b[0m\u001b[0;34m[\u001b[0m\u001b[0;34m'tracking'\u001b[0m\u001b[0;34m]\u001b[0m\u001b[0;34m.\u001b[0m\u001b[0mappend\u001b[0m\u001b[0;34m(\u001b[0m\u001b[0mappend\u001b[0m\u001b[0;34m)\u001b[0m\u001b[0;34m\u001b[0m\u001b[0;34m\u001b[0m\u001b[0m\n\u001b[0m\u001b[1;32m      6\u001b[0m \u001b[0;34m\u001b[0m\u001b[0m\n",
      "\u001b[0;31mAttributeError\u001b[0m: 'dict' object has no attribute 'append'"
     ]
    }
   ],
   "source": [
    "f = open('scratch.json',)\n",
    "data = json.load(f)\n",
    "print(data['tracking'])\n",
    "append = json.dumps({'ticker': 'gxo2', 'timestamp': 1633604525, 'direction': 'buy'})\n",
    "data['tracking'].append(append)\n",
    "\n"
   ]
  },
  {
   "cell_type": "code",
   "execution_count": 131,
   "id": "c8188ef7",
   "metadata": {},
   "outputs": [
    {
     "name": "stdout",
     "output_type": "stream",
     "text": [
      "0\n"
     ]
    }
   ],
   "source": [
    "a_dictionary = {'ticker': 'gxo2', 'timestamp': 1633604525, 'direction': 'buy', 'shares':100}\n",
    "\n",
    "#activity = self._log_activity()\n",
    "with open(#f'{project_path}/data/{self.__class__.__name__}-log.json'\n",
    "          \"scratch.json\",\"r+\") as file:\n",
    "    data = json.load(file)\n",
    "    data['transactions'].append(a_dictionary)\n",
    "    file.seek(0)\n",
    "    json.dump(data, file)"
   ]
  }
 ],
 "metadata": {
  "kernelspec": {
   "display_name": "Python 3 (ipykernel)",
   "language": "python",
   "name": "python3"
  },
  "language_info": {
   "codemirror_mode": {
    "name": "ipython",
    "version": 3
   },
   "file_extension": ".py",
   "mimetype": "text/x-python",
   "name": "python",
   "nbconvert_exporter": "python",
   "pygments_lexer": "ipython3",
   "version": "3.8.10"
  }
 },
 "nbformat": 4,
 "nbformat_minor": 5
}
